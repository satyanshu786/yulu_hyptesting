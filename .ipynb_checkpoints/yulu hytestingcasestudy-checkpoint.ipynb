{
 "cells": [
  {
   "cell_type": "code",
   "execution_count": 3,
   "id": "1f5ab824",
   "metadata": {},
   "outputs": [],
   "source": [
    "import pandas as pd\n",
    "import numpy as np\n",
    "import seaborn as sns\n",
    "import matplotlib.pyplot as plt"
   ]
  },
  {
   "cell_type": "code",
   "execution_count": 43,
   "id": "380a0b6c",
   "metadata": {},
   "outputs": [],
   "source": [
    "df = pd.read_csv(\"yulu_bike_sharing_dataset.csv\")"
   ]
  },
  {
   "cell_type": "code",
   "execution_count": 44,
   "id": "08f9de86",
   "metadata": {},
   "outputs": [
    {
     "data": {
      "text/html": [
       "<div>\n",
       "<style scoped>\n",
       "    .dataframe tbody tr th:only-of-type {\n",
       "        vertical-align: middle;\n",
       "    }\n",
       "\n",
       "    .dataframe tbody tr th {\n",
       "        vertical-align: top;\n",
       "    }\n",
       "\n",
       "    .dataframe thead th {\n",
       "        text-align: right;\n",
       "    }\n",
       "</style>\n",
       "<table border=\"1\" class=\"dataframe\">\n",
       "  <thead>\n",
       "    <tr style=\"text-align: right;\">\n",
       "      <th></th>\n",
       "      <th>datetime</th>\n",
       "      <th>season</th>\n",
       "      <th>holiday</th>\n",
       "      <th>workingday</th>\n",
       "      <th>weather</th>\n",
       "      <th>temp</th>\n",
       "      <th>atemp</th>\n",
       "      <th>humidity</th>\n",
       "      <th>windspeed</th>\n",
       "      <th>casual</th>\n",
       "      <th>registered</th>\n",
       "      <th>count</th>\n",
       "    </tr>\n",
       "  </thead>\n",
       "  <tbody>\n",
       "    <tr>\n",
       "      <th>0</th>\n",
       "      <td>2011-01-01 00:00:00</td>\n",
       "      <td>1</td>\n",
       "      <td>0</td>\n",
       "      <td>0</td>\n",
       "      <td>1</td>\n",
       "      <td>9.84</td>\n",
       "      <td>14.395</td>\n",
       "      <td>81</td>\n",
       "      <td>0.0</td>\n",
       "      <td>3</td>\n",
       "      <td>13</td>\n",
       "      <td>16</td>\n",
       "    </tr>\n",
       "    <tr>\n",
       "      <th>1</th>\n",
       "      <td>2011-01-01 01:00:00</td>\n",
       "      <td>1</td>\n",
       "      <td>0</td>\n",
       "      <td>0</td>\n",
       "      <td>1</td>\n",
       "      <td>9.02</td>\n",
       "      <td>13.635</td>\n",
       "      <td>80</td>\n",
       "      <td>0.0</td>\n",
       "      <td>8</td>\n",
       "      <td>32</td>\n",
       "      <td>40</td>\n",
       "    </tr>\n",
       "    <tr>\n",
       "      <th>2</th>\n",
       "      <td>2011-01-01 02:00:00</td>\n",
       "      <td>1</td>\n",
       "      <td>0</td>\n",
       "      <td>0</td>\n",
       "      <td>1</td>\n",
       "      <td>9.02</td>\n",
       "      <td>13.635</td>\n",
       "      <td>80</td>\n",
       "      <td>0.0</td>\n",
       "      <td>5</td>\n",
       "      <td>27</td>\n",
       "      <td>32</td>\n",
       "    </tr>\n",
       "    <tr>\n",
       "      <th>3</th>\n",
       "      <td>2011-01-01 03:00:00</td>\n",
       "      <td>1</td>\n",
       "      <td>0</td>\n",
       "      <td>0</td>\n",
       "      <td>1</td>\n",
       "      <td>9.84</td>\n",
       "      <td>14.395</td>\n",
       "      <td>75</td>\n",
       "      <td>0.0</td>\n",
       "      <td>3</td>\n",
       "      <td>10</td>\n",
       "      <td>13</td>\n",
       "    </tr>\n",
       "    <tr>\n",
       "      <th>4</th>\n",
       "      <td>2011-01-01 04:00:00</td>\n",
       "      <td>1</td>\n",
       "      <td>0</td>\n",
       "      <td>0</td>\n",
       "      <td>1</td>\n",
       "      <td>9.84</td>\n",
       "      <td>14.395</td>\n",
       "      <td>75</td>\n",
       "      <td>0.0</td>\n",
       "      <td>0</td>\n",
       "      <td>1</td>\n",
       "      <td>1</td>\n",
       "    </tr>\n",
       "  </tbody>\n",
       "</table>\n",
       "</div>"
      ],
      "text/plain": [
       "              datetime  season  holiday  workingday  weather  temp   atemp   \n",
       "0  2011-01-01 00:00:00       1        0           0        1  9.84  14.395  \\\n",
       "1  2011-01-01 01:00:00       1        0           0        1  9.02  13.635   \n",
       "2  2011-01-01 02:00:00       1        0           0        1  9.02  13.635   \n",
       "3  2011-01-01 03:00:00       1        0           0        1  9.84  14.395   \n",
       "4  2011-01-01 04:00:00       1        0           0        1  9.84  14.395   \n",
       "\n",
       "   humidity  windspeed  casual  registered  count  \n",
       "0        81        0.0       3          13     16  \n",
       "1        80        0.0       8          32     40  \n",
       "2        80        0.0       5          27     32  \n",
       "3        75        0.0       3          10     13  \n",
       "4        75        0.0       0           1      1  "
      ]
     },
     "execution_count": 44,
     "metadata": {},
     "output_type": "execute_result"
    }
   ],
   "source": [
    "df.head(5)"
   ]
  },
  {
   "cell_type": "markdown",
   "id": "f7d88e91",
   "metadata": {},
   "source": [
    "Yulu is a bike-sharing platform that provides a sustainable and convenient mode of transportation in urban areas. The company aims to address the challenges of traffic congestion, pollution, and limited parking space by offering a fleet of shared bicycles that are easily accessible to the public.\n",
    "\n",
    "Yulu operates on a dockless model, which means users can find and unlock bikes using a mobile app and drop them off at any convenient location within designated zones. This flexibility allows users to make short, point-to-point trips without the need for owning a personal bike or relying solely on public transportation.\n",
    "\n",
    "The Yulu bikes are designed to be environmentally friendly, with electric-assist capabilities that make pedaling easier and reduce the effort required for riders. The platform incorporates advanced technology, including IoT devices and GPS tracking, to enable seamless bike locating, secure locking mechanisms, and efficient operations.\n",
    "\n",
    "Yulu's mission goes beyond just providing bikes for rent; it aims to promote a sustainable and healthy lifestyle while contributing to the overall improvement of urban mobility. By encouraging people to choose eco-friendly transportation options, Yulu strives to create a positive impact on cities, reduce traffic congestion, and enhance the quality of life for urban dwellers.\n",
    "\n",
    "Through collaborations with local governments, transportation authorities, and various stakeholders, Yulu aims to build a robust bike-sharing ecosystem that caters to the needs of commuters, tourists, and residents alike. The company continues to expand its operations, innovate its technology, and enhance the user experience to make urban transportation more efficient, affordable, and sustainable."
   ]
  },
  {
   "cell_type": "markdown",
   "id": "57acb2ca",
   "metadata": {},
   "source": [
    "### Point to cover\n",
    "The company want to know\n",
    "which variable are significant in predicting the demand for shared electric cycles in the indan market?\n",
    "how well varibale describe the electric demand"
   ]
  },
  {
   "cell_type": "code",
   "execution_count": 8,
   "id": "d6134dcb",
   "metadata": {},
   "outputs": [
    {
     "name": "stdout",
     "output_type": "stream",
     "text": [
      "<class 'pandas.core.frame.DataFrame'>\n",
      "RangeIndex: 10886 entries, 0 to 10885\n",
      "Data columns (total 12 columns):\n",
      " #   Column      Non-Null Count  Dtype  \n",
      "---  ------      --------------  -----  \n",
      " 0   datetime    10886 non-null  object \n",
      " 1   season      10886 non-null  int64  \n",
      " 2   holiday     10886 non-null  int64  \n",
      " 3   workingday  10886 non-null  int64  \n",
      " 4   weather     10886 non-null  int64  \n",
      " 5   temp        10886 non-null  float64\n",
      " 6   atemp       10886 non-null  float64\n",
      " 7   humidity    10886 non-null  int64  \n",
      " 8   windspeed   10886 non-null  float64\n",
      " 9   casual      10886 non-null  int64  \n",
      " 10  registered  10886 non-null  int64  \n",
      " 11  count       10886 non-null  int64  \n",
      "dtypes: float64(3), int64(8), object(1)\n",
      "memory usage: 1020.7+ KB\n"
     ]
    }
   ],
   "source": [
    "df.info()"
   ]
  },
  {
   "cell_type": "code",
   "execution_count": 9,
   "id": "18a21711",
   "metadata": {},
   "outputs": [],
   "source": [
    "# no null value vailable in the dataset & most of the datatype is int or float\n"
   ]
  },
  {
   "cell_type": "markdown",
   "id": "77fbfcc5",
   "metadata": {},
   "source": [
    "Checking for outlier one by one"
   ]
  },
  {
   "cell_type": "code",
   "execution_count": 11,
   "id": "257e828b",
   "metadata": {},
   "outputs": [
    {
     "data": {
      "text/plain": [
       "workingday\n",
       "1    7412\n",
       "0    3474\n",
       "Name: count, dtype: int64"
      ]
     },
     "execution_count": 11,
     "metadata": {},
     "output_type": "execute_result"
    }
   ],
   "source": [
    "df['workingday'].value_counts()# 1 is working day & 0 is weekend"
   ]
  },
  {
   "cell_type": "code",
   "execution_count": 15,
   "id": "5ae79f7c",
   "metadata": {},
   "outputs": [
    {
     "data": {
      "text/plain": [
       "<Axes: xlabel='workingday', ylabel='count'>"
      ]
     },
     "execution_count": 15,
     "metadata": {},
     "output_type": "execute_result"
    },
    {
     "data": {
      "image/png": "[encoded data removed]",
      "text/plain": [
       "<Figure size 640x480 with 1 Axes>"
      ]
     },
     "metadata": {},
     "output_type": "display_data"
    }
   ],
   "source": [
    "sns.boxplot(data = df,x='workingday',y='count')"
   ]
  },
  {
   "cell_type": "markdown",
   "id": "be0d3dc0",
   "metadata": {},
   "source": [
    "As we can  see the is outlier in working day & weekend but the mean is almost the same\n",
    "#### Removing the outlier by using the IOR "
   ]
  },
  {
   "cell_type": "code",
   "execution_count": 16,
   "id": "63da9138",
   "metadata": {},
   "outputs": [],
   "source": [
    "q1= df['count'].quantile(0.25)\n",
    "q2 = df['count'].quantile(0.75)\n",
    "iqr = q2-q1"
   ]
  },
  {
   "cell_type": "code",
   "execution_count": 20,
   "id": "98003834",
   "metadata": {},
   "outputs": [],
   "source": [
    "df = df[(df['count'] >(q1-1.5*iqr)) & (df['count']<(q2+1.5*iqr))]"
   ]
  },
  {
   "cell_type": "code",
   "execution_count": 22,
   "id": "d0fb90a4",
   "metadata": {},
   "outputs": [
    {
     "data": {
      "text/plain": [
       "(10583, 12)"
      ]
     },
     "execution_count": 22,
     "metadata": {},
     "output_type": "execute_result"
    }
   ],
   "source": [
    "df.shape"
   ]
  },
  {
   "cell_type": "code",
   "execution_count": 23,
   "id": "997a2556",
   "metadata": {},
   "outputs": [
    {
     "data": {
      "text/plain": [
       "<Axes: xlabel='workingday', ylabel='count'>"
      ]
     },
     "execution_count": 23,
     "metadata": {},
     "output_type": "execute_result"
    },
    {
     "data": {
      "image/png": "[encoded data removed]",
      "text/plain": [
       "<Figure size 640x480 with 1 Axes>"
      ]
     },
     "metadata": {},
     "output_type": "display_data"
    }
   ],
   "source": [
    "sns.boxplot(data = df,x='workingday',y='count')"
   ]
  },
  {
   "cell_type": "markdown",
   "id": "07bb6ec0",
   "metadata": {},
   "source": [
    "As we can see even after removing the outlier the  mean for both weekday & weekend is almost the same "
   ]
  },
  {
   "cell_type": "code",
   "execution_count": 26,
   "id": "48a497ad",
   "metadata": {},
   "outputs": [
    {
     "data": {
      "image/png": "[encoded data removed]",
      "text/plain": [
       "<Figure size 640x480 with 1 Axes>"
      ]
     },
     "metadata": {},
     "output_type": "display_data"
    }
   ],
   "source": [
    "\n",
    "# Create the countplot\n",
    "ax = sns.countplot(data=df, x='workingday')\n",
    "\n",
    "# Calculate the percentage values\n",
    "total = len(df['workingday'])\n",
    "for p in ax.patches:\n",
    "    height = p.get_height()\n",
    "    percentage = (height / total) * 100\n",
    "    ax.annotate(f'{percentage:.2f}%', (p.get_x() + p.get_width() / 2, height), ha='center', va='bottom')\n",
    "\n",
    "# Display the plot\n",
    "plt.show()"
   ]
  },
  {
   "cell_type": "markdown",
   "id": "7a2e369f",
   "metadata": {},
   "source": [
    "but as per this graph working day have more sales but  the mean for both are the same so we have to check for hypothesis testing \n",
    "\n",
    "#### need to check  using statistical method using the t-test \n",
    "##### Step 1 Define the null & alternative hypotheses\n",
    "ho : the count on weekday is equal to the count on weekend\n",
    "ha : The count on weekday is not equal to  the count on weekend\n",
    "using 1-side tails test\n",
    "the signifiance value is 0.05\n"
   ]
  },
  {
   "cell_type": "code",
   "execution_count": 27,
   "id": "96f013ec",
   "metadata": {},
   "outputs": [],
   "source": [
    "weekday = df[df['workingday']==1]['count'].sample(3422)\n",
    "weekend = df[df['workingday']==0]['count'].sample(3422)\n"
   ]
  },
  {
   "cell_type": "code",
   "execution_count": 29,
   "id": "376bbcbc",
   "metadata": {},
   "outputs": [
    {
     "name": "stdout",
     "output_type": "stream",
     "text": [
      "The mean for the weekday is 151.0714604674673\n",
      "The mean for the weekday is 163.78216646075998\n"
     ]
    }
   ],
   "source": [
    "print(f'The mean for the weekday is {weekday.std()}')\n",
    "print(f'The mean for the weekday is {weekend.std()}')\n"
   ]
  },
  {
   "cell_type": "markdown",
   "id": "6c27642b",
   "metadata": {},
   "source": [
    "Calculating the p-value\n"
   ]
  },
  {
   "cell_type": "code",
   "execution_count": 31,
   "id": "fd10b7a1",
   "metadata": {},
   "outputs": [
    {
     "name": "stdout",
     "output_type": "stream",
     "text": [
      "The print value is 0.9766750963054303\n"
     ]
    }
   ],
   "source": [
    "from scipy.stats import ttest_ind\n",
    "test_stat,p_value = ttest_ind(weekday,weekend,equal_var = False,alternative = 'greater')\n",
    "print('The print value is',p_value)"
   ]
  },
  {
   "cell_type": "markdown",
   "id": "65543416",
   "metadata": {},
   "source": [
    "as the  per the value we can clearly say the  we are reject to accpet and it the we can say that the business for weekday & weekend is almost the same "
   ]
  },
  {
   "cell_type": "code",
   "execution_count": 33,
   "id": "2337fd84",
   "metadata": {},
   "outputs": [],
   "source": [
    "#checking for weather "
   ]
  },
  {
   "cell_type": "code",
   "execution_count": 34,
   "id": "fd6ab932",
   "metadata": {},
   "outputs": [
    {
     "data": {
      "text/plain": [
       "weather\n",
       "1    6962\n",
       "2    2770\n",
       "3     850\n",
       "4       1\n",
       "Name: count, dtype: int64"
      ]
     },
     "execution_count": 34,
     "metadata": {},
     "output_type": "execute_result"
    }
   ],
   "source": [
    "df['weather'].value_counts()"
   ]
  },
  {
   "cell_type": "code",
   "execution_count": 35,
   "id": "888ac562",
   "metadata": {},
   "outputs": [
    {
     "data": {
      "text/plain": [
       "<Axes: xlabel='weather', ylabel='count'>"
      ]
     },
     "execution_count": 35,
     "metadata": {},
     "output_type": "execute_result"
    },
    {
     "data": {
      "image/png": "[encoded data removed]",
      "text/plain": [
       "<Figure size 640x480 with 1 Axes>"
      ]
     },
     "metadata": {},
     "output_type": "display_data"
    }
   ],
   "source": [
    "sns.boxplot(data=df,x='weather',y='count')"
   ]
  },
  {
   "cell_type": "code",
   "execution_count": null,
   "id": "8e326e29",
   "metadata": {},
   "outputs": [],
   "source": []
  },
  {
   "cell_type": "markdown",
   "id": "9e234d55",
   "metadata": {},
   "source": [
    "as can we see we can say that the the more outlier on the weather 3  it is also have the 2nd lowest number 850 we so not good to remove the outlier also the mean is  have difference still check droping the 4"
   ]
  },
  {
   "cell_type": "code",
   "execution_count": 36,
   "id": "bea766d4",
   "metadata": {},
   "outputs": [],
   "source": []
  },
  {
   "cell_type": "code",
   "execution_count": 46,
   "id": "6ccba868",
   "metadata": {},
   "outputs": [],
   "source": [
    "w1 = df[df['weather'] == 1]['count'].sample(850)\n",
    "w2 = df[df['weather'] == 2]['count'].sample(850)\n",
    "w3 = df[df['weather'] == 3]['count'].sample(850)\n"
   ]
  },
  {
   "cell_type": "code",
   "execution_count": 48,
   "id": "f156f34b",
   "metadata": {},
   "outputs": [
    {
     "data": {
      "text/html": [
       "<div>\n",
       "<style scoped>\n",
       "    .dataframe tbody tr th:only-of-type {\n",
       "        vertical-align: middle;\n",
       "    }\n",
       "\n",
       "    .dataframe tbody tr th {\n",
       "        vertical-align: top;\n",
       "    }\n",
       "\n",
       "    .dataframe thead th {\n",
       "        text-align: right;\n",
       "    }\n",
       "</style>\n",
       "<table border=\"1\" class=\"dataframe\">\n",
       "  <thead>\n",
       "    <tr style=\"text-align: right;\">\n",
       "      <th></th>\n",
       "      <th>count</th>\n",
       "      <th>mean</th>\n",
       "      <th>std</th>\n",
       "      <th>min</th>\n",
       "      <th>25%</th>\n",
       "      <th>50%</th>\n",
       "      <th>75%</th>\n",
       "      <th>max</th>\n",
       "    </tr>\n",
       "    <tr>\n",
       "      <th>weather</th>\n",
       "      <th></th>\n",
       "      <th></th>\n",
       "      <th></th>\n",
       "      <th></th>\n",
       "      <th></th>\n",
       "      <th></th>\n",
       "      <th></th>\n",
       "      <th></th>\n",
       "    </tr>\n",
       "  </thead>\n",
       "  <tbody>\n",
       "    <tr>\n",
       "      <th>1</th>\n",
       "      <td>7192.0</td>\n",
       "      <td>205.236791</td>\n",
       "      <td>187.959566</td>\n",
       "      <td>1.0</td>\n",
       "      <td>48.0</td>\n",
       "      <td>161.0</td>\n",
       "      <td>305.0</td>\n",
       "      <td>977.0</td>\n",
       "    </tr>\n",
       "    <tr>\n",
       "      <th>2</th>\n",
       "      <td>2834.0</td>\n",
       "      <td>178.955540</td>\n",
       "      <td>168.366413</td>\n",
       "      <td>1.0</td>\n",
       "      <td>41.0</td>\n",
       "      <td>134.0</td>\n",
       "      <td>264.0</td>\n",
       "      <td>890.0</td>\n",
       "    </tr>\n",
       "    <tr>\n",
       "      <th>3</th>\n",
       "      <td>859.0</td>\n",
       "      <td>118.846333</td>\n",
       "      <td>138.581297</td>\n",
       "      <td>1.0</td>\n",
       "      <td>23.0</td>\n",
       "      <td>71.0</td>\n",
       "      <td>161.0</td>\n",
       "      <td>891.0</td>\n",
       "    </tr>\n",
       "    <tr>\n",
       "      <th>4</th>\n",
       "      <td>1.0</td>\n",
       "      <td>164.000000</td>\n",
       "      <td>NaN</td>\n",
       "      <td>164.0</td>\n",
       "      <td>164.0</td>\n",
       "      <td>164.0</td>\n",
       "      <td>164.0</td>\n",
       "      <td>164.0</td>\n",
       "    </tr>\n",
       "  </tbody>\n",
       "</table>\n",
       "</div>"
      ],
      "text/plain": [
       "          count        mean         std    min    25%    50%    75%    max\n",
       "weather                                                                   \n",
       "1        7192.0  205.236791  187.959566    1.0   48.0  161.0  305.0  977.0\n",
       "2        2834.0  178.955540  168.366413    1.0   41.0  134.0  264.0  890.0\n",
       "3         859.0  118.846333  138.581297    1.0   23.0   71.0  161.0  891.0\n",
       "4           1.0  164.000000         NaN  164.0  164.0  164.0  164.0  164.0"
      ]
     },
     "execution_count": 48,
     "metadata": {},
     "output_type": "execute_result"
    }
   ],
   "source": [
    "df.groupby(['weather'])['count'].describe()"
   ]
  },
  {
   "cell_type": "markdown",
   "id": "9440bc3c",
   "metadata": {},
   "source": [
    "step 1: dEFIRE THE NULL AND ALTERNATIVE HYP\n",
    "HO : The mean count is different weather are equal\n",
    "Ha ; the count is different weather are different "
   ]
  },
  {
   "cell_type": "raw",
   "id": "86052194",
   "metadata": {},
   "source": [
    "\n",
    "step 2 select Appro test\n",
    "this the problem concering three population means one way anova could be the appropriate test provide normal variance assumpution are verified\n",
    "for testing of normality,shapiro-wilk test is applied to the response variable\n",
    "for equality of varinace levene test is applied to the  response variable"
   ]
  },
  {
   "cell_type": "code",
   "execution_count": 50,
   "id": "1746fae6",
   "metadata": {},
   "outputs": [
    {
     "data": {
      "text/plain": [
       "4.511450193231624e-27"
      ]
     },
     "execution_count": 50,
     "metadata": {},
     "output_type": "execute_result"
    }
   ],
   "source": [
    "from scipy.stats import f_oneway\n",
    "\n",
    "test_stat ,p_value = f_oneway(w1,w2,w3)\n",
    "p_value"
   ]
  },
  {
   "cell_type": "code",
   "execution_count": 51,
   "id": "1d447147",
   "metadata": {},
   "outputs": [
    {
     "name": "stdout",
     "output_type": "stream",
     "text": [
      "as the p_value is less then significant value we can say that we reject the null hyp\n"
     ]
    }
   ],
   "source": [
    "if p_value <0.5:\n",
    "    print('as the p_value is less then significant value we can say that we reject the null hyp')\n",
    "else:\n",
    "    print('we fail to reject the  hyp ')"
   ]
  },
  {
   "cell_type": "code",
   "execution_count": 53,
   "id": "c10f53fb",
   "metadata": {},
   "outputs": [
    {
     "data": {
      "image/png": "[encoded data removed]",
      "text/plain": [
       "<Figure size 640x480 with 1 Axes>"
      ]
     },
     "metadata": {},
     "output_type": "display_data"
    }
   ],
   "source": [
    "ax = sns.countplot(data=df, x='weather')\n",
    "\n",
    "# Calculate the percentage values\n",
    "total = len(df['weather'])\n",
    "for p in ax.patches:\n",
    "    height = p.get_height()\n",
    "    percentage = (height / total) * 100\n",
    "    ax.annotate(f'{percentage:.2f}%', (p.get_x() + p.get_width() / 2, height), ha='center', va='bottom')\n",
    "\n",
    "# Display the plot\n",
    "plt.show()"
   ]
  },
  {
   "cell_type": "markdown",
   "id": "0f621e9f",
   "metadata": {},
   "source": [
    "we can say that most of the sales that 66.07% is come by 1 weather follow by 2 & then 3 \n",
    "\n"
   ]
  },
  {
   "cell_type": "code",
   "execution_count": 66,
   "id": "4ac285c4",
   "metadata": {},
   "outputs": [],
   "source": [
    "from scipy.stats import chi2_contingency "
   ]
  },
  {
   "cell_type": "code",
   "execution_count": 67,
   "id": "e02e4ca9",
   "metadata": {},
   "outputs": [
    {
     "ename": "TypeError",
     "evalue": "'<' not supported between instances of 'str' and 'int'",
     "output_type": "error",
     "traceback": [
      "\u001b[1;31m---------------------------------------------------------------------------\u001b[0m",
      "\u001b[1;31mTypeError\u001b[0m                                 Traceback (most recent call last)",
      "Cell \u001b[1;32mIn [67], line 1\u001b[0m\n\u001b[1;32m----> 1\u001b[0m chi,pval,dof,exp \u001b[38;5;241m=\u001b[39m \u001b[43mchi2_contingency\u001b[49m\u001b[43m(\u001b[49m\u001b[43mdf\u001b[49m\u001b[43m)\u001b[49m\n",
      "File \u001b[1;32m~\\AppData\\Local\\Programs\\Python\\Python310\\lib\\site-packages\\scipy\\stats\\contingency.py:282\u001b[0m, in \u001b[0;36mchi2_contingency\u001b[1;34m(observed, correction, lambda_)\u001b[0m\n\u001b[0;32m    145\u001b[0m \u001b[38;5;124;03m\"\"\"Chi-square test of independence of variables in a contingency table.\u001b[39;00m\n\u001b[0;32m    146\u001b[0m \n\u001b[0;32m    147\u001b[0m \u001b[38;5;124;03mThis function computes the chi-square statistic and p-value for the\u001b[39;00m\n\u001b[1;32m   (...)\u001b[0m\n\u001b[0;32m    279\u001b[0m \u001b[38;5;124;03m0.64417725029295503\u001b[39;00m\n\u001b[0;32m    280\u001b[0m \u001b[38;5;124;03m\"\"\"\u001b[39;00m\n\u001b[0;32m    281\u001b[0m observed \u001b[38;5;241m=\u001b[39m np\u001b[38;5;241m.\u001b[39masarray(observed)\n\u001b[1;32m--> 282\u001b[0m \u001b[38;5;28;01mif\u001b[39;00m np\u001b[38;5;241m.\u001b[39many(\u001b[43mobserved\u001b[49m\u001b[43m \u001b[49m\u001b[38;5;241;43m<\u001b[39;49m\u001b[43m \u001b[49m\u001b[38;5;241;43m0\u001b[39;49m):\n\u001b[0;32m    283\u001b[0m     \u001b[38;5;28;01mraise\u001b[39;00m \u001b[38;5;167;01mValueError\u001b[39;00m(\u001b[38;5;124m\"\u001b[39m\u001b[38;5;124mAll values in `observed` must be nonnegative.\u001b[39m\u001b[38;5;124m\"\u001b[39m)\n\u001b[0;32m    284\u001b[0m \u001b[38;5;28;01mif\u001b[39;00m observed\u001b[38;5;241m.\u001b[39msize \u001b[38;5;241m==\u001b[39m \u001b[38;5;241m0\u001b[39m:\n",
      "\u001b[1;31mTypeError\u001b[0m: '<' not supported between instances of 'str' and 'int'"
     ]
    }
   ],
   "source": [
    "chi,pval,dof,exp = chi2_contingency(df)"
   ]
  },
  {
   "cell_type": "code",
   "execution_count": null,
   "id": "b9b3c306",
   "metadata": {},
   "outputs": [],
   "source": []
  },
  {
   "cell_type": "code",
   "execution_count": null,
   "id": "aca3cffa",
   "metadata": {},
   "outputs": [],
   "source": []
  },
  {
   "cell_type": "code",
   "execution_count": null,
   "id": "7b4594ab",
   "metadata": {},
   "outputs": [],
   "source": []
  },
  {
   "cell_type": "code",
   "execution_count": null,
   "id": "a6b2ae30",
   "metadata": {},
   "outputs": [],
   "source": []
  },
  {
   "cell_type": "code",
   "execution_count": null,
   "id": "b65a91a2",
   "metadata": {},
   "outputs": [],
   "source": []
  },
  {
   "cell_type": "code",
   "execution_count": null,
   "id": "408d76b6",
   "metadata": {},
   "outputs": [],
   "source": []
  },
  {
   "cell_type": "code",
   "execution_count": null,
   "id": "b058f013",
   "metadata": {},
   "outputs": [],
   "source": []
  },
  {
   "cell_type": "code",
   "execution_count": null,
   "id": "a5520af6",
   "metadata": {},
   "outputs": [],
   "source": []
  },
  {
   "cell_type": "code",
   "execution_count": null,
   "id": "b5a82474",
   "metadata": {},
   "outputs": [],
   "source": []
  },
  {
   "cell_type": "code",
   "execution_count": null,
   "id": "35914693",
   "metadata": {},
   "outputs": [],
   "source": []
  },
  {
   "cell_type": "code",
   "execution_count": null,
   "id": "e01682f5",
   "metadata": {},
   "outputs": [],
   "source": []
  },
  {
   "cell_type": "code",
   "execution_count": 64,
   "id": "d69b3f54",
   "metadata": {},
   "outputs": [],
   "source": [
    "def avg_meanrange(x,y):\n",
    "    for j in range(len(y)):\n",
    "        mean_1 = [df[df[x]==y[j]].sample(100,replace=True)['count'].mean()for i  in range(200)]\n",
    "        confidence_interval = np.percentile(mean_1,[2.50,97.50])\n",
    "        \n",
    "        print('The Average Mean of',y[j],np.mean(mean_1))\n",
    "        print(f\"The Avg Mean of {y[j]} between {confidence_interval[0]} & {confidence_interval[1]}\")"
   ]
  },
  {
   "cell_type": "code",
   "execution_count": 65,
   "id": "ec70446a",
   "metadata": {},
   "outputs": [
    {
     "name": "stdout",
     "output_type": "stream",
     "text": [
      "The Average Mean of 1 206.19145\n",
      "The Avg Mean of 1 between 165.76825 & 238.38975000000002\n",
      "The Average Mean of 2 179.3631\n",
      "The Avg Mean of 2 between 149.41424999999998 & 209.346\n",
      "The Average Mean of 3 119.2764\n",
      "The Avg Mean of 3 between 96.55075 & 147.10075\n",
      "The Average Mean of 4 164.0\n",
      "The Avg Mean of 4 between 164.0 & 164.0\n"
     ]
    }
   ],
   "source": [
    "x = 'weather'\n",
    "y = [1,2,3,4]\n",
    "avg_meanrange(x,y)"
   ]
  },
  {
   "cell_type": "code",
   "execution_count": null,
   "id": "2e3f1904",
   "metadata": {},
   "outputs": [],
   "source": []
  }
 ],
 "metadata": {
  "kernelspec": {
   "display_name": "Python 3 (ipykernel)",
   "language": "python",
   "name": "python3"
  },
  "language_info": {
   "codemirror_mode": {
    "name": "ipython",
    "version": 3
   },
   "file_extension": ".py",
   "mimetype": "text/x-python",
   "name": "python",
   "nbconvert_exporter": "python",
   "pygments_lexer": "ipython3",
   "version": "3.10.1"
  }
 },
 "nbformat": 4,
 "nbformat_minor": 5
}
